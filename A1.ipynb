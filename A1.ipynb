{
 "cells": [
  {
   "attachments": {},
   "cell_type": "markdown",
   "metadata": {},
   "source": [
    "ASSIGNMENT -1\n"
   ]
  },
  {
   "attachments": {},
   "cell_type": "markdown",
   "metadata": {},
   "source": [
    "QUESTION1 "
   ]
  },
  {
   "cell_type": "code",
   "execution_count": 1,
   "metadata": {},
   "outputs": [],
   "source": [
    "str1 =\"Sanket\"\n",
    "l1 = [123,343,45,\"235\"]\n",
    "f1 = 23432.544\n",
    "t1 =(234,45,56,\"sd\")\n"
   ]
  },
  {
   "attachments": {},
   "cell_type": "markdown",
   "metadata": {},
   "source": [
    "QUESTION 2 "
   ]
  },
  {
   "cell_type": "code",
   "execution_count": 4,
   "metadata": {},
   "outputs": [
    {
     "data": {
      "text/plain": [
       "str"
      ]
     },
     "execution_count": 4,
     "metadata": {},
     "output_type": "execute_result"
    }
   ],
   "source": [
    "str\n",
    "str\n",
    "list\n",
    "int "
   ]
  },
  {
   "attachments": {},
   "cell_type": "markdown",
   "metadata": {},
   "source": [
    "question 3"
   ]
  },
  {
   "cell_type": "code",
   "execution_count": 6,
   "metadata": {},
   "outputs": [],
   "source": [
    " # / operator is used to perform division operation it give answer in decimal value \n",
    "#  % modulus operator is being used to get reminder in division \n",
    "# // we use this operator when we want integer as answer\n",
    "# ** power operator is used to exponential purpose \n",
    "\n",
    "# 10/3 = 3.3333\n",
    "# 10%3 =1\n",
    "# 10//3 =3\n",
    "# 10**3 =1000\n"
   ]
  },
  {
   "attachments": {},
   "cell_type": "markdown",
   "metadata": {},
   "source": [
    "question 4 "
   ]
  },
  {
   "cell_type": "code",
   "execution_count": 10,
   "metadata": {},
   "outputs": [
    {
     "name": "stdout",
     "output_type": "stream",
     "text": [
      "12 -  <class 'int'>\n",
      "34 -  <class 'int'>\n",
      "324 -  <class 'int'>\n",
      "45 -  <class 'int'>\n",
      "234 -  <class 'int'>\n",
      "234.34 -  <class 'float'>\n",
      "Sanket -  <class 'str'>\n",
      "[234, 435, 75] -  <class 'list'>\n",
      "(24, 3456, 67) -  <class 'tuple'>\n",
      "True -  <class 'bool'>\n"
     ]
    }
   ],
   "source": [
    "l1=[12,34,324,45,234,234.34,\"Sanket\",[234,435,75],(24,3456,67),True]\n",
    "\n",
    "for i in l1:\n",
    "    print(i, \"- \" ,type(i))"
   ]
  },
  {
   "attachments": {},
   "cell_type": "markdown",
   "metadata": {},
   "source": [
    "question 5 "
   ]
  },
  {
   "cell_type": "code",
   "execution_count": 17,
   "metadata": {},
   "outputs": [
    {
     "name": "stdout",
     "output_type": "stream",
     "text": [
      "a is divisible by b 0 times.\n"
     ]
    }
   ],
   "source": [
    "a = int(input(\"enter 1 st number\"))\n",
    "b = int(input(\"enter 2 nd number\"))\n",
    "\n",
    "\n",
    "count = 0\n",
    "\n",
    "while a % b == 0:\n",
    "    a= a // b\n",
    "    count += 1\n",
    "\n",
    "print(\"a is divisible by b\", count, \"times.\")\n",
    "\n",
    "\n"
   ]
  },
  {
   "attachments": {},
   "cell_type": "markdown",
   "metadata": {},
   "source": [
    "question 6"
   ]
  },
  {
   "cell_type": "code",
   "execution_count": 18,
   "metadata": {},
   "outputs": [
    {
     "name": "stdout",
     "output_type": "stream",
     "text": [
      "0  is divible by 3\n",
      "1  is not divible by 3\n",
      "2  is not divible by 3\n",
      "3  is divible by 3\n",
      "4  is not divible by 3\n",
      "5  is not divible by 3\n",
      "6  is divible by 3\n",
      "7  is not divible by 3\n",
      "8  is not divible by 3\n",
      "9  is divible by 3\n",
      "10  is not divible by 3\n",
      "11  is not divible by 3\n",
      "12  is divible by 3\n",
      "13  is not divible by 3\n",
      "14  is not divible by 3\n",
      "15  is divible by 3\n",
      "16  is not divible by 3\n",
      "17  is not divible by 3\n",
      "18  is divible by 3\n",
      "19  is not divible by 3\n",
      "20  is not divible by 3\n",
      "21  is divible by 3\n",
      "22  is not divible by 3\n",
      "23  is not divible by 3\n",
      "24  is divible by 3\n",
      "25  is not divible by 3\n"
     ]
    }
   ],
   "source": [
    "l= list(range(25))\n",
    "\n",
    "for i in l:\n",
    "    if i%3 ==0:\n",
    "        print(i, \" is divible by 3\")\n",
    "    else:\n",
    "        print(i, \" is not divible by 3\")\n",
    "       \n",
    "\n"
   ]
  },
  {
   "attachments": {},
   "cell_type": "markdown",
   "metadata": {},
   "source": [
    "question 7"
   ]
  },
  {
   "cell_type": "code",
   "execution_count": 23,
   "metadata": {},
   "outputs": [],
   "source": [
    "# mutable data types - such data type that can be modified after creation \n",
    "\n",
    "# ex --list \n",
    "\n",
    "l2 =[ 23,5,57]\n",
    "l2[0]=7\n",
    "\n",
    "# modified in origianl \n",
    "\n",
    "# unmutable data types -- such data type that cannot be modified after creation \n",
    "\n",
    "# ex-  string \n",
    "\n",
    "str1 =\"sanket\"\n",
    "# str[0] =\"p\" ---- give eroor \n"
   ]
  }
 ],
 "metadata": {
  "kernelspec": {
   "display_name": "Python 3",
   "language": "python",
   "name": "python3"
  },
  "language_info": {
   "codemirror_mode": {
    "name": "ipython",
    "version": 3
   },
   "file_extension": ".py",
   "mimetype": "text/x-python",
   "name": "python",
   "nbconvert_exporter": "python",
   "pygments_lexer": "ipython3",
   "version": "3.11.0"
  },
  "orig_nbformat": 4
 },
 "nbformat": 4,
 "nbformat_minor": 2
}
